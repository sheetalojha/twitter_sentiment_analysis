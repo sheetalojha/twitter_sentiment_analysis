{
  "nbformat": 4,
  "nbformat_minor": 0,
  "metadata": {
    "colab": {
      "name": "twitter_sentiment_analysis.ipynb",
      "provenance": [],
      "collapsed_sections": []
    },
    "kernelspec": {
      "name": "python3",
      "display_name": "Python 3"
    },
    "accelerator": "GPU"
  },
  "cells": [
    {
      "cell_type": "markdown",
      "metadata": {
        "id": "w-qngkYz84UN",
        "colab_type": "text"
      },
      "source": [
        "# Twitter Sentiment Analysis"
      ]
    },
    {
      "cell_type": "markdown",
      "metadata": {
        "id": "Je11CjPP5eKz",
        "colab_type": "text"
      },
      "source": [
        "**Installing Required Libraries**"
      ]
    },
    {
      "cell_type": "markdown",
      "metadata": {
        "id": "DlfG3FR_57Xz",
        "colab_type": "text"
      },
      "source": [
        "\n",
        "\n",
        "1.   tweepy to get tweets from twitter apis\n",
        "2.   TextBlob to analyse and get polarity for all tweets\n",
        "3.   matplotlib for drawing pie chart of the data\n",
        "\n"
      ]
    },
    {
      "cell_type": "code",
      "metadata": {
        "id": "BXYK88mpmwga",
        "colab_type": "code",
        "colab": {}
      },
      "source": [
        "!pip install tweepy"
      ],
      "execution_count": 0,
      "outputs": []
    },
    {
      "cell_type": "code",
      "metadata": {
        "id": "cJre_pWh6Z-g",
        "colab_type": "code",
        "colab": {}
      },
      "source": [
        "!pip install textblob"
      ],
      "execution_count": 0,
      "outputs": []
    },
    {
      "cell_type": "code",
      "metadata": {
        "id": "JPnrEyR2MTg2",
        "colab_type": "code",
        "colab": {}
      },
      "source": [
        "!pip install matplotlib"
      ],
      "execution_count": 0,
      "outputs": []
    },
    {
      "cell_type": "markdown",
      "metadata": {
        "id": "PEMiFL7g6eKA",
        "colab_type": "text"
      },
      "source": [
        "Importing all required libraries"
      ]
    },
    {
      "cell_type": "code",
      "metadata": {
        "id": "w96ywlFonF_x",
        "colab_type": "code",
        "colab": {}
      },
      "source": [
        "import tweepy"
      ],
      "execution_count": 0,
      "outputs": []
    },
    {
      "cell_type": "code",
      "metadata": {
        "id": "g1YXVzt6zrXq",
        "colab_type": "code",
        "colab": {}
      },
      "source": [
        "import csv\n"
      ],
      "execution_count": 0,
      "outputs": []
    },
    {
      "cell_type": "code",
      "metadata": {
        "id": "Uor03MVktN7T",
        "colab_type": "code",
        "colab": {}
      },
      "source": [
        "from textblob import TextBlob"
      ],
      "execution_count": 0,
      "outputs": []
    },
    {
      "cell_type": "markdown",
      "metadata": {
        "id": "pp-yiIJp6kin",
        "colab_type": "text"
      },
      "source": [
        "Authenticating for twitter apis using tweepy."
      ]
    },
    {
      "cell_type": "markdown",
      "metadata": {
        "id": "w_gj-Ilm6023",
        "colab_type": "text"
      },
      "source": [
        "You can get all the keys by creating a developer account on twitter from [here.](https://https://developer.twitter.com/en/apps)"
      ]
    },
    {
      "cell_type": "code",
      "metadata": {
        "id": "izEmPkKDtj3K",
        "colab_type": "code",
        "colab": {}
      },
      "source": [
        "consumer_key='<YOUR CONSUMER KEY FROM TWITTER APIS>'\n",
        "consumer_secret='<YOUR CONSUMER SECRET/PASSWORD FROM TWITTER APIS'\n",
        "access_token='<YOUR ACCESS TOKEN FOR API>'\n",
        "access_token_secret='<YOUR ACCESS TOKEN SECRET FOR API>'\n",
        "\n",
        "auth = tweepy.OAuthHandler(consumer_key, consumer_secret)\n",
        "auth.set_access_token(access_token, access_token_secret)\n",
        "\n",
        "api = tweepy.API(auth)\n",
        "\n"
      ],
      "execution_count": 0,
      "outputs": []
    },
    {
      "cell_type": "markdown",
      "metadata": {
        "id": "KIPJyXV47qb3",
        "colab_type": "text"
      },
      "source": [
        "Generating CSV file with tweets and their polarities\n"
      ]
    },
    {
      "cell_type": "markdown",
      "metadata": {
        "id": "0Tod7rMN7xj5",
        "colab_type": "text"
      },
      "source": [
        "RTs are not considered! So, we get out of the trap of Hashtag from here.\n"
      ]
    },
    {
      "cell_type": "code",
      "metadata": {
        "id": "n_ld5f3av0yS",
        "colab_type": "code",
        "outputId": "5a3eed33-a872-42c1-9e29-050ca862d694",
        "colab": {
          "base_uri": "https://localhost:8080/",
          "height": 35
        }
      },
      "source": [
        "positive = 0\n",
        "total=0\n",
        "negative = 0\n",
        "neutral = 0\n",
        "with open('tweets_recorded.csv', 'w', newline='') as csvfile:\n",
        "    filewriter = csv.writer(csvfile)\n",
        "    for tweet in tweepy.Cursor(api.search, q=\"Narendra Modi\", rpp=100, count=20, result_type=\"recent\", include_entities=True, lang=\"en\").items(200):\n",
        "      if (not tweet.retweeted) and ('RT @' not in tweet.text):\n",
        "        total = total+1\n",
        "        polarity = 'neutral'\n",
        "        #print('Tweet: ' + tweet.text)\n",
        "        analysis = TextBlob(tweet.text)\n",
        "        #print(analysis.sentiment)\n",
        "        if(analysis.sentiment.polarity > 0.2):\n",
        "          polarity='positive'\n",
        "          positive = positive +1\n",
        "        if(analysis.sentiment.polarity < -0.2):\n",
        "          polarity= 'negative'\n",
        "          negative = negative +1\n",
        "        if(analysis.sentiment.polarity <0.2):\n",
        "          if(analysis.sentiment.polarity > -0.2):\n",
        "            neutral = neutral +1\n",
        "        #print(polarity)\n",
        "        filewriter.writerow([polarity, analysis.sentiment.polarity, tweet.text])\n",
        "print(\"Total Results \", total)\n",
        " "
      ],
      "execution_count": 7,
      "outputs": [
        {
          "output_type": "stream",
          "text": [
            "Total Results  36\n"
          ],
          "name": "stdout"
        }
      ]
    },
    {
      "cell_type": "markdown",
      "metadata": {
        "id": "9M8S5l1o79KP",
        "colab_type": "text"
      },
      "source": [
        "Plotting the pie chart to visualise the statistics of tweet's sentiment"
      ]
    },
    {
      "cell_type": "code",
      "metadata": {
        "id": "UCL9zC7qKaTq",
        "colab_type": "code",
        "outputId": "ad507751-166d-4e83-edac-626ec23c6b6e",
        "colab": {
          "base_uri": "https://localhost:8080/",
          "height": 248
        }
      },
      "source": [
        "cols = ['r', 'g', 'c']\n",
        "lables = ['negative', 'positive', 'neutral']\n",
        "data= [negative, positive, neutral]\n",
        "\n",
        "import matplotlib.pyplot as plt\n",
        "plt.pie(data, labels=lables, colors=cols)\n",
        "plt.show()"
      ],
      "execution_count": 8,
      "outputs": [
        {
          "output_type": "display_data",
          "data": {
            "image/png": "[encoded data removed]",
            "text/plain": [
              "<Figure size 432x288 with 1 Axes>"
            ]
          },
          "metadata": {
            "tags": []
          }
        }
      ]
    },
    {
      "cell_type": "markdown",
      "metadata": {
        "id": "X6l-nG4B8Gpr",
        "colab_type": "text"
      },
      "source": [
        "Congratulations! You just completed a survey on twitter."
      ]
    },
    {
      "cell_type": "markdown",
      "metadata": {
        "id": "7K7_o33_8XLg",
        "colab_type": "text"
      },
      "source": [
        "**Developed by Tushar Ojha**"
      ]
    },
    {
      "cell_type": "markdown",
      "metadata": {
        "id": "FKjE4_3f8eV1",
        "colab_type": "text"
      },
      "source": [
        "Follow me on: \n",
        "[twitter](https://twitter.com/techtusharojha), [github](https://github.com/tusharojha), [instagram](https://instagram.com/iamtusharojha)."
      ]
    }
  ]
}